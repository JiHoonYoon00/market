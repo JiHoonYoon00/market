{
 "cells": [
  {
   "cell_type": "code",
   "execution_count": 2,
   "id": "05ef10c9-7152-4a58-8820-bc58b5b7d370",
   "metadata": {},
   "outputs": [],
   "source": [
    "import pandas as pd\n"
   ]
  },
  {
   "cell_type": "code",
   "execution_count": 3,
   "id": "08ddd514-9ce5-4de2-aca9-1393c6bf3c2a",
   "metadata": {},
   "outputs": [],
   "source": [
    "order_df = pd.read_csv(\"data/orders.csv\")"
   ]
  },
  {
   "cell_type": "code",
   "execution_count": 4,
   "id": "af89cd83-7db7-43f5-a024-66e207091a4b",
   "metadata": {},
   "outputs": [],
   "source": [
    "order_df\n",
    "random_sample = order_df.sample(n=3000)"
   ]
  },
  {
   "cell_type": "code",
   "execution_count": 6,
   "id": "49d92b99-bcdd-4827-b135-2775c53f53a7",
   "metadata": {},
   "outputs": [],
   "source": [
    "random_sample.to_csv('order_random.csv')"
   ]
  },
  {
   "cell_type": "code",
   "execution_count": null,
   "id": "d168979b-783e-4d73-948c-f6424542ed60",
   "metadata": {},
   "outputs": [],
   "source": []
  }
 ],
 "metadata": {
  "kernelspec": {
   "display_name": "Python 3 (ipykernel)",
   "language": "python",
   "name": "python3"
  },
  "language_info": {
   "codemirror_mode": {
    "name": "ipython",
    "version": 3
   },
   "file_extension": ".py",
   "mimetype": "text/x-python",
   "name": "python",
   "nbconvert_exporter": "python",
   "pygments_lexer": "ipython3",
   "version": "3.11.5"
  }
 },
 "nbformat": 4,
 "nbformat_minor": 5
}
